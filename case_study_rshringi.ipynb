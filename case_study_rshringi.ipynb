{
 "cells": [
  {
   "cell_type": "markdown",
   "metadata": {},
   "source": [
    "### External Sources and packages\n",
    "Below cell lists the external dependencies of this notebook. I have utilized current well known third party libraries for generating graphs and charts:\n",
    "1. matplotlib https://matplotlib.org\n",
    "2. pandas dataframe https://pandas.pydata.org/"
   ]
  },
  {
   "cell_type": "code",
   "execution_count": 104,
   "metadata": {},
   "outputs": [
    {
     "name": "stdout",
     "output_type": "stream",
     "text": [
      "all imports worked nicely\n"
     ]
    }
   ],
   "source": [
    "import base64\n",
    "import numpy as np\n",
    "import pandas as pd\n",
    "\n",
    "from matplotlib import pyplot as plt\n",
    "import matplotlib\n",
    "%matplotlib inline\n",
    "\n",
    "from pprint import pprint\n",
    "from collections import Counter\n",
    "\n",
    "print \"all imports worked nicely\""
   ]
  },
  {
   "cell_type": "markdown",
   "metadata": {},
   "source": [
    "### Data Exploration\n",
    "1. Parsing the file into a Pandas dataframe\n",
    "2. Checking some of the values for individual columns - description, level and title\n",
    "3. Getting all the possible values of column \"level\" "
   ]
  },
  {
   "cell_type": "code",
   "execution_count": 34,
   "metadata": {},
   "outputs": [],
   "source": [
    "# pd.set_option('display.max_colwidth', 100)\n",
    "def read_data(file):\n",
    "    df = pd.read_csv(file)\n",
    "    df = df.drop('index', axis=1) # drop the indexing column as pandas already provides one\n",
    "    print \"Quick look into the data from %s\" % file\n",
    "    print df.head()\n",
    "    print\n",
    "    return df"
   ]
  },
  {
   "cell_type": "code",
   "execution_count": 79,
   "metadata": {
    "scrolled": true
   },
   "outputs": [
    {
     "name": "stdout",
     "output_type": "stream",
     "text": [
      "quick look into the data from search_results_s1.csv\n",
      "   search_results  rank\n",
      "0               7     5\n",
      "1               6     0\n",
      "2               6     4\n",
      "3               5     5\n",
      "4               8     5\n",
      "\n"
     ]
    },
    {
     "data": {
      "text/html": [
       "<div>\n",
       "<style scoped>\n",
       "    .dataframe tbody tr th:only-of-type {\n",
       "        vertical-align: middle;\n",
       "    }\n",
       "\n",
       "    .dataframe tbody tr th {\n",
       "        vertical-align: top;\n",
       "    }\n",
       "\n",
       "    .dataframe thead th {\n",
       "        text-align: right;\n",
       "    }\n",
       "</style>\n",
       "<table border=\"1\" class=\"dataframe\">\n",
       "  <thead>\n",
       "    <tr style=\"text-align: right;\">\n",
       "      <th></th>\n",
       "      <th>search_results</th>\n",
       "      <th>rank</th>\n",
       "    </tr>\n",
       "  </thead>\n",
       "  <tbody>\n",
       "    <tr>\n",
       "      <th>count</th>\n",
       "      <td>5000.000000</td>\n",
       "      <td>5000.000000</td>\n",
       "    </tr>\n",
       "    <tr>\n",
       "      <th>mean</th>\n",
       "      <td>7.001600</td>\n",
       "      <td>3.732200</td>\n",
       "    </tr>\n",
       "    <tr>\n",
       "      <th>std</th>\n",
       "      <td>2.648962</td>\n",
       "      <td>2.924892</td>\n",
       "    </tr>\n",
       "    <tr>\n",
       "      <th>min</th>\n",
       "      <td>0.000000</td>\n",
       "      <td>0.000000</td>\n",
       "    </tr>\n",
       "    <tr>\n",
       "      <th>25%</th>\n",
       "      <td>5.000000</td>\n",
       "      <td>0.000000</td>\n",
       "    </tr>\n",
       "    <tr>\n",
       "      <th>50%</th>\n",
       "      <td>7.000000</td>\n",
       "      <td>4.000000</td>\n",
       "    </tr>\n",
       "    <tr>\n",
       "      <th>75%</th>\n",
       "      <td>9.000000</td>\n",
       "      <td>6.000000</td>\n",
       "    </tr>\n",
       "    <tr>\n",
       "      <th>max</th>\n",
       "      <td>18.000000</td>\n",
       "      <td>15.000000</td>\n",
       "    </tr>\n",
       "  </tbody>\n",
       "</table>\n",
       "</div>"
      ],
      "text/plain": [
       "       search_results         rank\n",
       "count     5000.000000  5000.000000\n",
       "mean         7.001600     3.732200\n",
       "std          2.648962     2.924892\n",
       "min          0.000000     0.000000\n",
       "25%          5.000000     0.000000\n",
       "50%          7.000000     4.000000\n",
       "75%          9.000000     6.000000\n",
       "max         18.000000    15.000000"
      ]
     },
     "execution_count": 79,
     "metadata": {},
     "output_type": "execute_result"
    }
   ],
   "source": [
    "# parse and read data\n",
    "df_algo1 = read_data(\"search_results_s1.csv\")\n",
    "df_algo1.describe() # generate statistical information"
   ]
  },
  {
   "cell_type": "code",
   "execution_count": 36,
   "metadata": {},
   "outputs": [
    {
     "name": "stdout",
     "output_type": "stream",
     "text": [
      "quick look into the data from search_results_s2.csv\n",
      "   search_results  rank\n",
      "0               4     4\n",
      "1               2     0\n",
      "2               3     0\n",
      "3               5     3\n",
      "4               3     1\n",
      "\n",
      "quick look into the data from search_results_s3.csv\n",
      "   search_results  rank\n",
      "0               5     4\n",
      "1               5     1\n",
      "2               4     0\n",
      "3               5     0\n",
      "4               3     1\n",
      "\n",
      "quick look into the data from search_results_s4.csv\n",
      "   search_results  rank\n",
      "0               8     5\n",
      "1               7     4\n",
      "2               6     4\n",
      "3               8     0\n",
      "4               7     0\n",
      "\n",
      "quick look into the data from search_results_s5.csv\n",
      "   search_results  rank\n",
      "0               9     5\n",
      "1              10     0\n",
      "2               9     4\n",
      "3               8     4\n",
      "4               6     2\n",
      "\n",
      "Statisctics for Algorithm 5\n"
     ]
    },
    {
     "data": {
      "text/html": [
       "<div>\n",
       "<style scoped>\n",
       "    .dataframe tbody tr th:only-of-type {\n",
       "        vertical-align: middle;\n",
       "    }\n",
       "\n",
       "    .dataframe tbody tr th {\n",
       "        vertical-align: top;\n",
       "    }\n",
       "\n",
       "    .dataframe thead th {\n",
       "        text-align: right;\n",
       "    }\n",
       "</style>\n",
       "<table border=\"1\" class=\"dataframe\">\n",
       "  <thead>\n",
       "    <tr style=\"text-align: right;\">\n",
       "      <th></th>\n",
       "      <th>search_results</th>\n",
       "      <th>rank</th>\n",
       "    </tr>\n",
       "  </thead>\n",
       "  <tbody>\n",
       "    <tr>\n",
       "      <th>count</th>\n",
       "      <td>2000.000000</td>\n",
       "      <td>2000.000000</td>\n",
       "    </tr>\n",
       "    <tr>\n",
       "      <th>mean</th>\n",
       "      <td>6.932500</td>\n",
       "      <td>3.026000</td>\n",
       "    </tr>\n",
       "    <tr>\n",
       "      <th>std</th>\n",
       "      <td>2.751859</td>\n",
       "      <td>2.337104</td>\n",
       "    </tr>\n",
       "    <tr>\n",
       "      <th>min</th>\n",
       "      <td>0.000000</td>\n",
       "      <td>0.000000</td>\n",
       "    </tr>\n",
       "    <tr>\n",
       "      <th>25%</th>\n",
       "      <td>5.000000</td>\n",
       "      <td>1.000000</td>\n",
       "    </tr>\n",
       "    <tr>\n",
       "      <th>50%</th>\n",
       "      <td>7.000000</td>\n",
       "      <td>3.000000</td>\n",
       "    </tr>\n",
       "    <tr>\n",
       "      <th>75%</th>\n",
       "      <td>9.000000</td>\n",
       "      <td>5.000000</td>\n",
       "    </tr>\n",
       "    <tr>\n",
       "      <th>max</th>\n",
       "      <td>15.000000</td>\n",
       "      <td>11.000000</td>\n",
       "    </tr>\n",
       "  </tbody>\n",
       "</table>\n",
       "</div>"
      ],
      "text/plain": [
       "       search_results         rank\n",
       "count     2000.000000  2000.000000\n",
       "mean         6.932500     3.026000\n",
       "std          2.751859     2.337104\n",
       "min          0.000000     0.000000\n",
       "25%          5.000000     1.000000\n",
       "50%          7.000000     3.000000\n",
       "75%          9.000000     5.000000\n",
       "max         15.000000    11.000000"
      ]
     },
     "execution_count": 36,
     "metadata": {},
     "output_type": "execute_result"
    }
   ],
   "source": [
    "df_algo2 = read_data(\"search_results_s2.csv\")\n",
    "df_algo3 = read_data(\"search_results_s3.csv\")\n",
    "df_algo4 = read_data(\"search_results_s4.csv\")\n",
    "df_algo5 = read_data(\"search_results_s5.csv\")\n",
    "\n",
    "print \"Statisctics for Algorithm 5\"\n",
    "df_algo5.describe() # generate statistical information"
   ]
  },
  {
   "cell_type": "markdown",
   "metadata": {},
   "source": [
    "### Task 1:\n",
    "Evaluate the given data to determine the “best”\n",
    "algorithm.\n",
    "1. Plot the query results based on the rank distribution - higher the zero rank count, worse the algorithm\n",
    "\n",
    "2. Plot the query results with zero ranks(% distribution), implying no relevant result was returned. This gives us first hint of algorithm efficiency by ranking them in terms of no relevant results returned.\n",
    "\n",
    "3. Plot the results with non zero ranks: here we try to plot the difference in (number of results - rank), ***the higher this number the better the algorithm***. (Note: we remove zero rank results first to calculat this difference) "
   ]
  },
  {
   "cell_type": "code",
   "execution_count": 45,
   "metadata": {
    "scrolled": false
   },
   "outputs": [
    {
     "data": {
      "image/png": "[encoded data removed]",
      "text/plain": [
       "<Figure size 720x720 with 1 Axes>"
      ]
     },
     "metadata": {
      "needs_background": "light"
     },
     "output_type": "display_data"
    }
   ],
   "source": [
    "# a function to plot the ranks values for each algorithm\n",
    "def plot_ranks(df):\n",
    "    counts = df[\"rank\"].value_counts()\n",
    "    plot_data_ranks = df[df[\"rank\"].isin(counts[counts >= 2].index)] # showing only those rank values whose occurence is more than or equal to 2\n",
    "    plot_data_ranks[\"rank\"].value_counts().plot.bar(y=\"level\", figsize=(10,10),alpha = 0.4, color=['black', 'red', 'green', 'blue', 'cyan'])\n",
    "\n",
    "plot_ranks(df_algo1)"
   ]
  },
  {
   "cell_type": "code",
   "execution_count": 46,
   "metadata": {},
   "outputs": [
    {
     "data": {
      "image/png": "[encoded data removed]",
      "text/plain": [
       "<Figure size 720x720 with 1 Axes>"
      ]
     },
     "metadata": {
      "needs_background": "light"
     },
     "output_type": "display_data"
    }
   ],
   "source": [
    "plot_ranks(df_algo2)"
   ]
  },
  {
   "cell_type": "code",
   "execution_count": 47,
   "metadata": {},
   "outputs": [
    {
     "data": {
      "image/png": "[encoded data removed]",
      "text/plain": [
       "<Figure size 720x720 with 1 Axes>"
      ]
     },
     "metadata": {
      "needs_background": "light"
     },
     "output_type": "display_data"
    }
   ],
   "source": [
    "plot_ranks(df_algo3)"
   ]
  },
  {
   "cell_type": "code",
   "execution_count": 48,
   "metadata": {},
   "outputs": [
    {
     "data": {
      "image/png": "[encoded data removed]",
      "text/plain": [
       "<Figure size 720x720 with 1 Axes>"
      ]
     },
     "metadata": {
      "needs_background": "light"
     },
     "output_type": "display_data"
    }
   ],
   "source": [
    "plot_ranks(df_algo4)"
   ]
  },
  {
   "cell_type": "code",
   "execution_count": 49,
   "metadata": {},
   "outputs": [
    {
     "data": {
      "image/png": "[encoded data removed]",
      "text/plain": [
       "<Figure size 720x720 with 1 Axes>"
      ]
     },
     "metadata": {
      "needs_background": "light"
     },
     "output_type": "display_data"
    }
   ],
   "source": [
    "plot_ranks(df_algo5)"
   ]
  },
  {
   "cell_type": "code",
   "execution_count": 54,
   "metadata": {},
   "outputs": [],
   "source": [
    "def count_zero_rank(df):\n",
    "    algo_rank_list = df[\"rank\"].tolist() # getting ranks in list and extracting the count of 0 ranks\n",
    "    zero_count = float(algo_rank_list.count(0))/(len(algo_rank_list)) # normalized count of zero rank results\n",
    "    return zero_count"
   ]
  },
  {
   "cell_type": "code",
   "execution_count": 58,
   "metadata": {},
   "outputs": [
    {
     "name": "stdout",
     "output_type": "stream",
     "text": [
      "[0.2616, 0.484, 0.235, 0.19285714285714287, 0.241]\n",
      "['algo_1', 'algo_2', 'algo_3', 'algo_4', 'algo_5']\n"
     ]
    }
   ],
   "source": [
    "# list that keeps zero rank counts for each algorithm\n",
    "count_zero = []\n",
    "\n",
    "for df in [df_algo1, df_algo2, df_algo3, df_algo4, df_algo5]:\n",
    "    count_zero.append(count_zero_rank(df))\n",
    "\n",
    "print count_zero\n",
    "algo_name = [\"algo_1\",\"algo_2\",\"algo_3\",\"algo_4\",\"algo_5\"]\n",
    "print algo_name"
   ]
  },
  {
   "cell_type": "code",
   "execution_count": 71,
   "metadata": {
    "scrolled": false
   },
   "outputs": [
    {
     "name": "stderr",
     "output_type": "stream",
     "text": [
      "/home/dupree/anaconda2/envs/py27/lib/python2.7/site-packages/ipykernel_launcher.py:1: FutureWarning: 'from_array' is deprecated and will be removed in a future version. Please use the pd.Series(..) constructor instead.\n",
      "  \"\"\"Entry point for launching an IPython kernel.\n"
     ]
    },
    {
     "data": {
      "text/plain": [
       "Text(0,0.5,'Zero Rank Frequency')"
      ]
     },
     "execution_count": 71,
     "metadata": {},
     "output_type": "execute_result"
    },
    {
     "data": {
      "image/png": "[encoded data removed]",
      "text/plain": [
       "<Figure size 360x360 with 1 Axes>"
      ]
     },
     "metadata": {
      "needs_background": "light"
     },
     "output_type": "display_data"
    }
   ],
   "source": [
    "freq_series = pd.Series.from_array(count_zero)\n",
    "opacity = 0.4\n",
    "# Plot the figure.\n",
    "plt.figure(figsize=(5, 5))\n",
    "ax = freq_series.plot(kind='bar', alpha = opacity, color=['black', 'red', 'green', 'blue', 'cyan'])\n",
    "ax.set_title('(%)Zero rank distribution')\n",
    "ax.set_xlabel('Algorithm')\n",
    "ax.set_ylabel('Zero Rank Frequency')\n"
   ]
  },
  {
   "cell_type": "markdown",
   "metadata": {},
   "source": [
    "### Inference\n",
    "The above chart shows that **Algorithm indexed at 1**(search_results_s2.csv) has highest zero rank results making it the **worst** in this metric, while **Algorithm indexed at 3**(search_results_s3.csv) being the **best**. "
   ]
  },
  {
   "cell_type": "code",
   "execution_count": 98,
   "metadata": {},
   "outputs": [],
   "source": [
    "# function to remove zero count values from rank column\n",
    "# add rank_difference column that keeps track of metric = search_results - rank\n",
    "# the higher this metric the better algorithm\n",
    "\n",
    "def transform_df(df_input):\n",
    "    df = df_input.query('rank != 0')\n",
    "    df['rank_difference'] = df.apply(lambda row: row['search_results'] - row['rank'], axis=1)\n",
    "    return df\n",
    "\n",
    "# a function to plot the rank_difference values for each algorithm\n",
    "def plot_rank_diff(df):\n",
    "    counts = df[\"rank_difference\"].value_counts()\n",
    "    plot_data_ranks = df[df[\"rank_difference\"].isin(counts[counts >= 2].index)] # showing only those rank values whose occurence is more than or equal to 2\n",
    "    plot_data_ranks[\"rank_difference\"].value_counts().plot.bar(y=\"level\", figsize=(5,5),alpha = 0.4, color=['black', 'red', 'green', 'blue', 'cyan'])\n"
   ]
  },
  {
   "cell_type": "code",
   "execution_count": 99,
   "metadata": {},
   "outputs": [
    {
     "name": "stderr",
     "output_type": "stream",
     "text": [
      "/home/dupree/anaconda2/envs/py27/lib/python2.7/site-packages/ipykernel_launcher.py:7: SettingWithCopyWarning: \n",
      "A value is trying to be set on a copy of a slice from a DataFrame.\n",
      "Try using .loc[row_indexer,col_indexer] = value instead\n",
      "\n",
      "See the caveats in the documentation: http://pandas.pydata.org/pandas-docs/stable/indexing.html#indexing-view-versus-copy\n",
      "  import sys\n"
     ]
    },
    {
     "data": {
      "image/png": "[encoded data removed]",
      "text/plain": [
       "<Figure size 360x360 with 1 Axes>"
      ]
     },
     "metadata": {
      "needs_background": "light"
     },
     "output_type": "display_data"
    }
   ],
   "source": [
    "# Transforming the df for each algorithm and plotting the ranks\n",
    "plot_rank_diff(transform_df(df_algo1))\n"
   ]
  },
  {
   "cell_type": "code",
   "execution_count": 100,
   "metadata": {},
   "outputs": [
    {
     "name": "stderr",
     "output_type": "stream",
     "text": [
      "/home/dupree/anaconda2/envs/py27/lib/python2.7/site-packages/ipykernel_launcher.py:7: SettingWithCopyWarning: \n",
      "A value is trying to be set on a copy of a slice from a DataFrame.\n",
      "Try using .loc[row_indexer,col_indexer] = value instead\n",
      "\n",
      "See the caveats in the documentation: http://pandas.pydata.org/pandas-docs/stable/indexing.html#indexing-view-versus-copy\n",
      "  import sys\n"
     ]
    },
    {
     "data": {
      "image/png": "[encoded data removed]",
      "text/plain": [
       "<Figure size 360x360 with 1 Axes>"
      ]
     },
     "metadata": {
      "needs_background": "light"
     },
     "output_type": "display_data"
    }
   ],
   "source": [
    "# Transforming the df for each algorithm and plotting the ranks\n",
    "plot_rank_diff(transform_df(df_algo2))"
   ]
  },
  {
   "cell_type": "code",
   "execution_count": 101,
   "metadata": {},
   "outputs": [
    {
     "name": "stderr",
     "output_type": "stream",
     "text": [
      "/home/dupree/anaconda2/envs/py27/lib/python2.7/site-packages/ipykernel_launcher.py:7: SettingWithCopyWarning: \n",
      "A value is trying to be set on a copy of a slice from a DataFrame.\n",
      "Try using .loc[row_indexer,col_indexer] = value instead\n",
      "\n",
      "See the caveats in the documentation: http://pandas.pydata.org/pandas-docs/stable/indexing.html#indexing-view-versus-copy\n",
      "  import sys\n"
     ]
    },
    {
     "data": {
      "image/png": "[encoded data removed]",
      "text/plain": [
       "<Figure size 360x360 with 1 Axes>"
      ]
     },
     "metadata": {
      "needs_background": "light"
     },
     "output_type": "display_data"
    }
   ],
   "source": [
    "# Transforming the df for each algorithm and plotting the ranks\n",
    "plot_rank_diff(transform_df(df_algo3))\n"
   ]
  },
  {
   "cell_type": "code",
   "execution_count": 102,
   "metadata": {},
   "outputs": [
    {
     "name": "stderr",
     "output_type": "stream",
     "text": [
      "/home/dupree/anaconda2/envs/py27/lib/python2.7/site-packages/ipykernel_launcher.py:7: SettingWithCopyWarning: \n",
      "A value is trying to be set on a copy of a slice from a DataFrame.\n",
      "Try using .loc[row_indexer,col_indexer] = value instead\n",
      "\n",
      "See the caveats in the documentation: http://pandas.pydata.org/pandas-docs/stable/indexing.html#indexing-view-versus-copy\n",
      "  import sys\n"
     ]
    },
    {
     "data": {
      "image/png": "[encoded data removed]",
      "text/plain": [
       "<Figure size 360x360 with 1 Axes>"
      ]
     },
     "metadata": {
      "needs_background": "light"
     },
     "output_type": "display_data"
    }
   ],
   "source": [
    "# Transforming the df for each algorithm and plotting the ranks\n",
    "plot_rank_diff(transform_df(df_algo4))\n"
   ]
  },
  {
   "cell_type": "code",
   "execution_count": 103,
   "metadata": {},
   "outputs": [
    {
     "name": "stderr",
     "output_type": "stream",
     "text": [
      "/home/dupree/anaconda2/envs/py27/lib/python2.7/site-packages/ipykernel_launcher.py:7: SettingWithCopyWarning: \n",
      "A value is trying to be set on a copy of a slice from a DataFrame.\n",
      "Try using .loc[row_indexer,col_indexer] = value instead\n",
      "\n",
      "See the caveats in the documentation: http://pandas.pydata.org/pandas-docs/stable/indexing.html#indexing-view-versus-copy\n",
      "  import sys\n"
     ]
    },
    {
     "data": {
      "image/png": "[encoded data removed]",
      "text/plain": [
       "<Figure size 360x360 with 1 Axes>"
      ]
     },
     "metadata": {
      "needs_background": "light"
     },
     "output_type": "display_data"
    }
   ],
   "source": [
    "# Transforming the df for each algorithm and plotting the ranks\n",
    "plot_rank_diff(transform_df(df_algo5))\n"
   ]
  },
  {
   "cell_type": "markdown",
   "metadata": {},
   "source": [
    "### Inference 2\n",
    "1. As it can be seen in plots above, ***algorithm 3*** shows the highest distribution of difference in (search results - rank) thus implying it performing better compared to others.\n",
    "2. ***NOTE***: Ideally the plots **should show % data thus removing the affect of difference in query amount** in each data set. Due to shortage of time I am not able to incorporate this in solution."
   ]
  },
  {
   "cell_type": "markdown",
   "metadata": {},
   "source": [
    "### Inference 3\n",
    "\n",
    "1. As one of the metrics we can use mean values of the clicked link(rank column).\n",
    "2. We expect the 1st link to be the most relevant and relevance of the links should decrease. \n",
    "3. Smarter methods could be used if any information about the user interface would be available, e.g. number of shown\n",
    "4. links for the user as rarely later search results' pages are visited by most of the users \n",
    "\n",
    "5. **Higher results --> worse performance**"
   ]
  },
  {
   "cell_type": "code",
   "execution_count": 105,
   "metadata": {},
   "outputs": [
    {
     "name": "stderr",
     "output_type": "stream",
     "text": [
      "/home/dupree/anaconda2/envs/py27/lib/python2.7/site-packages/ipykernel_launcher.py:7: SettingWithCopyWarning: \n",
      "A value is trying to be set on a copy of a slice from a DataFrame.\n",
      "Try using .loc[row_indexer,col_indexer] = value instead\n",
      "\n",
      "See the caveats in the documentation: http://pandas.pydata.org/pandas-docs/stable/indexing.html#indexing-view-versus-copy\n",
      "  import sys\n"
     ]
    },
    {
     "name": "stdout",
     "output_type": "stream",
     "text": [
      "('Engine 1:', 5.054442036836403)\n",
      "('Engine 2:', 2.256921373200443)\n",
      "('Engine 3:', 2.4248366013071894)\n",
      "('Engine 4:', 4.9734513274336285)\n",
      "('Engine 5:', 3.986824769433465)\n"
     ]
    }
   ],
   "source": [
    "print(\"Engine 1:\", transform_df(df_algo1)['rank'].mean())\n",
    "print(\"Engine 2:\", transform_df(df_algo2)['rank'].mean()) \n",
    "print(\"Engine 3:\", transform_df(df_algo3)['rank'].mean())\n",
    "print(\"Engine 4:\", transform_df(df_algo4)['rank'].mean())\n",
    "print(\"Engine 5:\", transform_df(df_algo5)['rank'].mean())"
   ]
  },
  {
   "cell_type": "markdown",
   "metadata": {},
   "source": [
    "### Task 2:\n",
    "● How to determine whether two words or\n",
    "phrases are synonyms?\n",
    "1. Using keyword similarity - TF/IDF based methods\n",
    "2. Using semantic similarity - word embedding based methods\n",
    "\n",
    "\n",
    "● In general, how do you find relationships\n",
    "to use for query expansion?\n",
    "1. Take out the keywords from query using POS, NER techniques or parsing over of list of important domain specific keyowrds.\n",
    "2. Once done query can be expanded to accomodate keywords \"similar\" to extracted keywords based on any of the methods described in question above. \n",
    "\n",
    "● What are the trade-offs between using\n",
    "click-through rate (CTR) and conversion\n",
    "rate as search success metrics? ! ​\n",
    "\n",
    "1. If I understand correctly, CTR should tell us that if the search result was inspected by the user or not.\n",
    "2. Conversion rate(i.e the rate of actual hiring happening), captures more than the search efficiency. It reflects the efficiency of the whole process of recuritment, if I understnad correctly. \n",
    "3. In my understanding CTR should be a good measure of search results. But maybe I need to clarify these concepts in more detail."
   ]
  },
  {
   "cell_type": "markdown",
   "metadata": {},
   "source": [
    "### Task 3:\n",
    "●Tell us about an aspect of search you are most interested in?\n",
    "1. I am highly interested in improving the search results for **natural language queries**, which means parsing unstructured query data, extracting the relevant important search terms and then searching and expanding the query based on those search terms.\n",
    "\n",
    "2. **Semantic search** - This is something which I already mentioned in step 1, expanding query search by just not matching keywords but also looking for semantically similar terms based on search terms.\n",
    "\n",
    "3. Step 2 above can also incorporate for improvements such as **typo correction**.\n",
    "\n",
    "**PS** : Due to time constraints, I could not expand more here. But I really enjoyed the task, hoping you enjoy the submission as well.  "
   ]
  }
 ],
 "metadata": {
  "kernelspec": {
   "display_name": "Python 2",
   "language": "python",
   "name": "python2"
  },
  "language_info": {
   "codemirror_mode": {
    "name": "ipython",
    "version": 2
   },
   "file_extension": ".py",
   "mimetype": "text/x-python",
   "name": "python",
   "nbconvert_exporter": "python",
   "pygments_lexer": "ipython2",
   "version": "2.7.15"
  }
 },
 "nbformat": 4,
 "nbformat_minor": 2
}
